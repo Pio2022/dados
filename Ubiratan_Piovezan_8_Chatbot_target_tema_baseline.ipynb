{
  "nbformat": 4,
  "nbformat_minor": 0,
  "metadata": {
    "colab": {
      "name": "Ubiratan Piovezan - 8. Chatbot_target_tema_baseline.ipynb",
      "provenance": [],
      "collapsed_sections": [],
      "include_colab_link": true
    },
    "kernelspec": {
      "display_name": "Python 3",
      "name": "python3"
    }
  },
  "cells": [
    {
      "cell_type": "markdown",
      "metadata": {
        "id": "view-in-github",
        "colab_type": "text"
      },
      "source": [
        "<a href=\"https://colab.research.google.com/github/Pio2022/dados/blob/main/Ubiratan_Piovezan_8_Chatbot_target_tema_baseline.ipynb\" target=\"_parent\"><img src=\"https://colab.research.google.com/assets/colab-badge.svg\" alt=\"Open In Colab\"/></a>"
      ]
    },
    {
      "cell_type": "markdown",
      "source": [
        "---\n",
        "# Objetivo: Treinar 3 modelos iniciais (SGDClassifier, RandomForestClassifier e LogisticRegression) sem otimizações para observar as performances de cada um.\n",
        "---\n"
      ],
      "metadata": {
        "id": "hjWOsHHjDukJ"
      }
    },
    {
      "cell_type": "markdown",
      "source": [
        "**1- Descrição do problema ou tarefa:**\n",
        "\n",
        "Prever a categorias frutas, animais e graos a partir das perguntas.\n",
        "\n",
        "**2- Descrição da solução de IA:**\n",
        "Treinamento supervisionado de modelo de classificação as categorias das perguntas (3 classes) com os dados das 16000 perguntas sobre os temas Frutas, animais e graos \n",
        "\n",
        "**3- Fonte de dados:**\n",
        "\n",
        "\n",
        "Livro de perguntas e respostas da Embrapa\n",
        "https://mais500p500r.sct.embrapa.br/view/index.php4\n",
        "\n",
        "**4-Variáveis independentes:** \n",
        "perguntas\n",
        "\n",
        "**5-Variável dependente:** \n",
        "Categorias frutas, animais e graos\n",
        "\n",
        "\n",
        "-----------------------------------------------------------------\n",
        "Autor do caderno: Wellington Rangel\n",
        "Data: 23/11/2021\n",
        "\n",
        "Link para apresentação do projeto\n",
        "\n",
        "https://drive.google.com/drive/folders/14HOUZdEMHY1PufLGk5-Z5AwOsSgCwsid?usp=sharing\n",
        "\n",
        "Link para o código completo\n",
        "\n",
        "https://github.com/wellrangel/assistentevirtualagro"
      ],
      "metadata": {
        "id": "fvULHjKWCSyU"
      }
    },
    {
      "cell_type": "code",
      "metadata": {
        "id": "R94FLrZBpuMV"
      },
      "source": [
        "%matplotlib inline\n",
        "\n",
        "import pandas as pd\n",
        "import numpy as np\n",
        "\n",
        "from sklearn.feature_extraction.text import TfidfVectorizer\n",
        "from sklearn.feature_extraction.text import TfidfTransformer\n",
        "from sklearn.linear_model import SGDClassifier\n",
        "from sklearn.linear_model import LogisticRegression\n",
        "from sklearn.ensemble import RandomForestClassifier\n",
        "\n",
        "from sklearn.pipeline import Pipeline\n"
      ],
      "execution_count": 6,
      "outputs": []
    },
    {
      "cell_type": "code",
      "metadata": {
        "colab": {
          "base_uri": "https://localhost:8080/"
        },
        "id": "1J5M35A8i-aE",
        "outputId": "ee5c43ce-028c-422b-8e0e-44c9faaf9d5f"
      },
      "source": [
        "from google.colab import drive\n",
        "drive.mount('/content/drive')"
      ],
      "execution_count": 7,
      "outputs": [
        {
          "output_type": "stream",
          "name": "stdout",
          "text": [
            "Drive already mounted at /content/drive; to attempt to forcibly remount, call drive.mount(\"/content/drive\", force_remount=True).\n"
          ]
        }
      ]
    },
    {
      "cell_type": "code",
      "source": [
        "%cd /content/drive/MyDrive/Colab Notebooks/curso_embrapa/dados_naoestruturados"
      ],
      "metadata": {
        "colab": {
          "base_uri": "https://localhost:8080/"
        },
        "id": "ceGR6aWNzgwY",
        "outputId": "5c96a133-869c-4c77-f5b2-732e9edba9cb"
      },
      "execution_count": 8,
      "outputs": [
        {
          "output_type": "stream",
          "name": "stdout",
          "text": [
            "[Errno 2] No such file or directory: '/content/drive/MyDrive/Colab Notebooks/curso_embrapa/dados_naoestruturados'\n",
            "/content/drive/MyDrive/Classroom/Curso: Introdução a Modelagem Preditiva com Python\n"
          ]
        }
      ]
    },
    {
      "cell_type": "code",
      "metadata": {
        "colab": {
          "base_uri": "https://localhost:8080/"
        },
        "id": "rJAy1z3WjCkJ",
        "outputId": "adf71173-68ae-4cec-d8e7-fc5650b68d28"
      },
      "source": [
        "%cd /content/drive/MyDrive/Classroom/'Curso: Introdução a Modelagem Preditiva com Python'/"
      ],
      "execution_count": 9,
      "outputs": [
        {
          "output_type": "stream",
          "name": "stdout",
          "text": [
            "/content/drive/MyDrive/Classroom/Curso: Introdução a Modelagem Preditiva com Python\n"
          ]
        }
      ]
    },
    {
      "cell_type": "code",
      "metadata": {
        "id": "5tF9plSHpuMZ"
      },
      "source": [
        "# Carrega os dados\n",
        "df = pd.read_csv('Ubiratan Piovezan - 500perguntas.csv',  sep=',', low_memory=False,encoding='latin-1' )\n",
        "\n"
      ],
      "execution_count": 12,
      "outputs": []
    },
    {
      "cell_type": "code",
      "metadata": {
        "colab": {
          "base_uri": "https://localhost:8080/",
          "height": 337
        },
        "id": "nnyfKN7ifj1Q",
        "outputId": "377abc27-c698-481f-eea6-68c0ce358757"
      },
      "source": [
        "df.head()"
      ],
      "execution_count": null,
      "outputs": [
        {
          "output_type": "execute_result",
          "data": {
            "text/plain": [
              "   Numero Livro       Capitulo  \\\n",
              "0       1  Pera  Generalidades   \n",
              "1       2  Pera  Generalidades   \n",
              "2       3  Pera  Generalidades   \n",
              "3       4  Pera  Generalidades   \n",
              "4       5  Pera  Generalidades   \n",
              "\n",
              "                                            Pergunta  \\\n",
              "0              Qual é o centro de origem da pereira?   \n",
              "1         Qual é o centro de origem mais importante?   \n",
              "2  Como ocorreu a disseminação da pereira pelo mu...   \n",
              "3  Quais são as espécies de pereira mais cultivad...   \n",
              "4        Quando a pereira foi introduzida no Brasil?   \n",
              "\n",
              "                                            Resposta Target Target_final  \\\n",
              "0  São citados três centros de origem da pereira:...   Pera       Frutas   \n",
              "1  O centro do Oriente Médio é considerado de imp...   Pera       Frutas   \n",
              "2  Com base em estudos bioquímicos, verificou-se ...   Pera       Frutas   \n",
              "3  Na Europa, na América do Norte, na América do ...   Pera       Frutas   \n",
              "4  Não há relatos na literatura sobre a introduçã...   Pera       Frutas   \n",
              "\n",
              "  Target_final1 Target_final2 Target_final3  \n",
              "0           NaN        Frutas           NaN  \n",
              "1           NaN        Frutas           NaN  \n",
              "2           NaN        Frutas           NaN  \n",
              "3           NaN        Frutas           NaN  \n",
              "4           NaN        Frutas           NaN  "
            ],
            "text/html": [
              "\n",
              "  <div id=\"df-bbf0ff0f-fca4-4050-8419-e0cf5ecaeda4\">\n",
              "    <div class=\"colab-df-container\">\n",
              "      <div>\n",
              "<style scoped>\n",
              "    .dataframe tbody tr th:only-of-type {\n",
              "        vertical-align: middle;\n",
              "    }\n",
              "\n",
              "    .dataframe tbody tr th {\n",
              "        vertical-align: top;\n",
              "    }\n",
              "\n",
              "    .dataframe thead th {\n",
              "        text-align: right;\n",
              "    }\n",
              "</style>\n",
              "<table border=\"1\" class=\"dataframe\">\n",
              "  <thead>\n",
              "    <tr style=\"text-align: right;\">\n",
              "      <th></th>\n",
              "      <th>Numero</th>\n",
              "      <th>Livro</th>\n",
              "      <th>Capitulo</th>\n",
              "      <th>Pergunta</th>\n",
              "      <th>Resposta</th>\n",
              "      <th>Target</th>\n",
              "      <th>Target_final</th>\n",
              "      <th>Target_final1</th>\n",
              "      <th>Target_final2</th>\n",
              "      <th>Target_final3</th>\n",
              "    </tr>\n",
              "  </thead>\n",
              "  <tbody>\n",
              "    <tr>\n",
              "      <th>0</th>\n",
              "      <td>1</td>\n",
              "      <td>Pera</td>\n",
              "      <td>Generalidades</td>\n",
              "      <td>Qual é o centro de origem da pereira?</td>\n",
              "      <td>São citados três centros de origem da pereira:...</td>\n",
              "      <td>Pera</td>\n",
              "      <td>Frutas</td>\n",
              "      <td>NaN</td>\n",
              "      <td>Frutas</td>\n",
              "      <td>NaN</td>\n",
              "    </tr>\n",
              "    <tr>\n",
              "      <th>1</th>\n",
              "      <td>2</td>\n",
              "      <td>Pera</td>\n",
              "      <td>Generalidades</td>\n",
              "      <td>Qual é o centro de origem mais importante?</td>\n",
              "      <td>O centro do Oriente Médio é considerado de imp...</td>\n",
              "      <td>Pera</td>\n",
              "      <td>Frutas</td>\n",
              "      <td>NaN</td>\n",
              "      <td>Frutas</td>\n",
              "      <td>NaN</td>\n",
              "    </tr>\n",
              "    <tr>\n",
              "      <th>2</th>\n",
              "      <td>3</td>\n",
              "      <td>Pera</td>\n",
              "      <td>Generalidades</td>\n",
              "      <td>Como ocorreu a disseminação da pereira pelo mu...</td>\n",
              "      <td>Com base em estudos bioquímicos, verificou-se ...</td>\n",
              "      <td>Pera</td>\n",
              "      <td>Frutas</td>\n",
              "      <td>NaN</td>\n",
              "      <td>Frutas</td>\n",
              "      <td>NaN</td>\n",
              "    </tr>\n",
              "    <tr>\n",
              "      <th>3</th>\n",
              "      <td>4</td>\n",
              "      <td>Pera</td>\n",
              "      <td>Generalidades</td>\n",
              "      <td>Quais são as espécies de pereira mais cultivad...</td>\n",
              "      <td>Na Europa, na América do Norte, na América do ...</td>\n",
              "      <td>Pera</td>\n",
              "      <td>Frutas</td>\n",
              "      <td>NaN</td>\n",
              "      <td>Frutas</td>\n",
              "      <td>NaN</td>\n",
              "    </tr>\n",
              "    <tr>\n",
              "      <th>4</th>\n",
              "      <td>5</td>\n",
              "      <td>Pera</td>\n",
              "      <td>Generalidades</td>\n",
              "      <td>Quando a pereira foi introduzida no Brasil?</td>\n",
              "      <td>Não há relatos na literatura sobre a introduçã...</td>\n",
              "      <td>Pera</td>\n",
              "      <td>Frutas</td>\n",
              "      <td>NaN</td>\n",
              "      <td>Frutas</td>\n",
              "      <td>NaN</td>\n",
              "    </tr>\n",
              "  </tbody>\n",
              "</table>\n",
              "</div>\n",
              "      <button class=\"colab-df-convert\" onclick=\"convertToInteractive('df-bbf0ff0f-fca4-4050-8419-e0cf5ecaeda4')\"\n",
              "              title=\"Convert this dataframe to an interactive table.\"\n",
              "              style=\"display:none;\">\n",
              "        \n",
              "  <svg xmlns=\"http://www.w3.org/2000/svg\" height=\"24px\"viewBox=\"0 0 24 24\"\n",
              "       width=\"24px\">\n",
              "    <path d=\"M0 0h24v24H0V0z\" fill=\"none\"/>\n",
              "    <path d=\"M18.56 5.44l.94 2.06.94-2.06 2.06-.94-2.06-.94-.94-2.06-.94 2.06-2.06.94zm-11 1L8.5 8.5l.94-2.06 2.06-.94-2.06-.94L8.5 2.5l-.94 2.06-2.06.94zm10 10l.94 2.06.94-2.06 2.06-.94-2.06-.94-.94-2.06-.94 2.06-2.06.94z\"/><path d=\"M17.41 7.96l-1.37-1.37c-.4-.4-.92-.59-1.43-.59-.52 0-1.04.2-1.43.59L10.3 9.45l-7.72 7.72c-.78.78-.78 2.05 0 2.83L4 21.41c.39.39.9.59 1.41.59.51 0 1.02-.2 1.41-.59l7.78-7.78 2.81-2.81c.8-.78.8-2.07 0-2.86zM5.41 20L4 18.59l7.72-7.72 1.47 1.35L5.41 20z\"/>\n",
              "  </svg>\n",
              "      </button>\n",
              "      \n",
              "  <style>\n",
              "    .colab-df-container {\n",
              "      display:flex;\n",
              "      flex-wrap:wrap;\n",
              "      gap: 12px;\n",
              "    }\n",
              "\n",
              "    .colab-df-convert {\n",
              "      background-color: #E8F0FE;\n",
              "      border: none;\n",
              "      border-radius: 50%;\n",
              "      cursor: pointer;\n",
              "      display: none;\n",
              "      fill: #1967D2;\n",
              "      height: 32px;\n",
              "      padding: 0 0 0 0;\n",
              "      width: 32px;\n",
              "    }\n",
              "\n",
              "    .colab-df-convert:hover {\n",
              "      background-color: #E2EBFA;\n",
              "      box-shadow: 0px 1px 2px rgba(60, 64, 67, 0.3), 0px 1px 3px 1px rgba(60, 64, 67, 0.15);\n",
              "      fill: #174EA6;\n",
              "    }\n",
              "\n",
              "    [theme=dark] .colab-df-convert {\n",
              "      background-color: #3B4455;\n",
              "      fill: #D2E3FC;\n",
              "    }\n",
              "\n",
              "    [theme=dark] .colab-df-convert:hover {\n",
              "      background-color: #434B5C;\n",
              "      box-shadow: 0px 1px 3px 1px rgba(0, 0, 0, 0.15);\n",
              "      filter: drop-shadow(0px 1px 2px rgba(0, 0, 0, 0.3));\n",
              "      fill: #FFFFFF;\n",
              "    }\n",
              "  </style>\n",
              "\n",
              "      <script>\n",
              "        const buttonEl =\n",
              "          document.querySelector('#df-bbf0ff0f-fca4-4050-8419-e0cf5ecaeda4 button.colab-df-convert');\n",
              "        buttonEl.style.display =\n",
              "          google.colab.kernel.accessAllowed ? 'block' : 'none';\n",
              "\n",
              "        async function convertToInteractive(key) {\n",
              "          const element = document.querySelector('#df-bbf0ff0f-fca4-4050-8419-e0cf5ecaeda4');\n",
              "          const dataTable =\n",
              "            await google.colab.kernel.invokeFunction('convertToInteractive',\n",
              "                                                     [key], {});\n",
              "          if (!dataTable) return;\n",
              "\n",
              "          const docLinkHtml = 'Like what you see? Visit the ' +\n",
              "            '<a target=\"_blank\" href=https://colab.research.google.com/notebooks/data_table.ipynb>data table notebook</a>'\n",
              "            + ' to learn more about interactive tables.';\n",
              "          element.innerHTML = '';\n",
              "          dataTable['output_type'] = 'display_data';\n",
              "          await google.colab.output.renderOutput(dataTable, element);\n",
              "          const docLink = document.createElement('div');\n",
              "          docLink.innerHTML = docLinkHtml;\n",
              "          element.appendChild(docLink);\n",
              "        }\n",
              "      </script>\n",
              "    </div>\n",
              "  </div>\n",
              "  "
            ]
          },
          "metadata": {},
          "execution_count": 5
        }
      ]
    },
    {
      "cell_type": "code",
      "metadata": {
        "id": "GaysOpN2fX7L"
      },
      "source": [
        "#selecionando a pergunta e a classe\n",
        "sub = df[['Pergunta', 'Target_final']]"
      ],
      "execution_count": 13,
      "outputs": []
    },
    {
      "cell_type": "code",
      "metadata": {
        "id": "BrDVLkjDf73E"
      },
      "source": [
        "#renomeando as colunas\n",
        "sub.columns = ['texto', 'classe']"
      ],
      "execution_count": 14,
      "outputs": []
    },
    {
      "cell_type": "code",
      "metadata": {
        "id": "PpvudkCQz3W6"
      },
      "source": [
        "# apagando linhas com na\n",
        "sub = sub.dropna()"
      ],
      "execution_count": 15,
      "outputs": []
    },
    {
      "cell_type": "code",
      "metadata": {
        "colab": {
          "base_uri": "https://localhost:8080/",
          "height": 363
        },
        "id": "lUjYCNie7xNE",
        "outputId": "5b57af3c-9594-4a63-cab6-4323f5d9332f"
      },
      "source": [
        "#mostrando as 10 primeiras linhas\n",
        "sub[:10]"
      ],
      "execution_count": 16,
      "outputs": [
        {
          "output_type": "execute_result",
          "data": {
            "text/plain": [
              "                                               texto  classe\n",
              "0              Qual é o centro de origem da pereira?  Frutas\n",
              "1         Qual é o centro de origem mais importante?  Frutas\n",
              "2  Como ocorreu a disseminação da pereira pelo mu...  Frutas\n",
              "3  Quais são as espécies de pereira mais cultivad...  Frutas\n",
              "4        Quando a pereira foi introduzida no Brasil?  Frutas\n",
              "5          Como foi a evolução da cultura no Brasil?  Frutas\n",
              "6  Qual é a região brasileira mais indicada para ...  Frutas\n",
              "7      Onde é produzida pera de qualidade no Brasil?  Frutas\n",
              "8  Quais são os principais tipos de pera produzid...  Frutas\n",
              "9  Qual é a época de produção de pera no Sul do B...  Frutas"
            ],
            "text/html": [
              "\n",
              "  <div id=\"df-f41a8756-b43b-4f0a-9fd6-7b45ea274324\">\n",
              "    <div class=\"colab-df-container\">\n",
              "      <div>\n",
              "<style scoped>\n",
              "    .dataframe tbody tr th:only-of-type {\n",
              "        vertical-align: middle;\n",
              "    }\n",
              "\n",
              "    .dataframe tbody tr th {\n",
              "        vertical-align: top;\n",
              "    }\n",
              "\n",
              "    .dataframe thead th {\n",
              "        text-align: right;\n",
              "    }\n",
              "</style>\n",
              "<table border=\"1\" class=\"dataframe\">\n",
              "  <thead>\n",
              "    <tr style=\"text-align: right;\">\n",
              "      <th></th>\n",
              "      <th>texto</th>\n",
              "      <th>classe</th>\n",
              "    </tr>\n",
              "  </thead>\n",
              "  <tbody>\n",
              "    <tr>\n",
              "      <th>0</th>\n",
              "      <td>Qual é o centro de origem da pereira?</td>\n",
              "      <td>Frutas</td>\n",
              "    </tr>\n",
              "    <tr>\n",
              "      <th>1</th>\n",
              "      <td>Qual é o centro de origem mais importante?</td>\n",
              "      <td>Frutas</td>\n",
              "    </tr>\n",
              "    <tr>\n",
              "      <th>2</th>\n",
              "      <td>Como ocorreu a disseminação da pereira pelo mu...</td>\n",
              "      <td>Frutas</td>\n",
              "    </tr>\n",
              "    <tr>\n",
              "      <th>3</th>\n",
              "      <td>Quais são as espécies de pereira mais cultivad...</td>\n",
              "      <td>Frutas</td>\n",
              "    </tr>\n",
              "    <tr>\n",
              "      <th>4</th>\n",
              "      <td>Quando a pereira foi introduzida no Brasil?</td>\n",
              "      <td>Frutas</td>\n",
              "    </tr>\n",
              "    <tr>\n",
              "      <th>5</th>\n",
              "      <td>Como foi a evolução da cultura no Brasil?</td>\n",
              "      <td>Frutas</td>\n",
              "    </tr>\n",
              "    <tr>\n",
              "      <th>6</th>\n",
              "      <td>Qual é a região brasileira mais indicada para ...</td>\n",
              "      <td>Frutas</td>\n",
              "    </tr>\n",
              "    <tr>\n",
              "      <th>7</th>\n",
              "      <td>Onde é produzida pera de qualidade no Brasil?</td>\n",
              "      <td>Frutas</td>\n",
              "    </tr>\n",
              "    <tr>\n",
              "      <th>8</th>\n",
              "      <td>Quais são os principais tipos de pera produzid...</td>\n",
              "      <td>Frutas</td>\n",
              "    </tr>\n",
              "    <tr>\n",
              "      <th>9</th>\n",
              "      <td>Qual é a época de produção de pera no Sul do B...</td>\n",
              "      <td>Frutas</td>\n",
              "    </tr>\n",
              "  </tbody>\n",
              "</table>\n",
              "</div>\n",
              "      <button class=\"colab-df-convert\" onclick=\"convertToInteractive('df-f41a8756-b43b-4f0a-9fd6-7b45ea274324')\"\n",
              "              title=\"Convert this dataframe to an interactive table.\"\n",
              "              style=\"display:none;\">\n",
              "        \n",
              "  <svg xmlns=\"http://www.w3.org/2000/svg\" height=\"24px\"viewBox=\"0 0 24 24\"\n",
              "       width=\"24px\">\n",
              "    <path d=\"M0 0h24v24H0V0z\" fill=\"none\"/>\n",
              "    <path d=\"M18.56 5.44l.94 2.06.94-2.06 2.06-.94-2.06-.94-.94-2.06-.94 2.06-2.06.94zm-11 1L8.5 8.5l.94-2.06 2.06-.94-2.06-.94L8.5 2.5l-.94 2.06-2.06.94zm10 10l.94 2.06.94-2.06 2.06-.94-2.06-.94-.94-2.06-.94 2.06-2.06.94z\"/><path d=\"M17.41 7.96l-1.37-1.37c-.4-.4-.92-.59-1.43-.59-.52 0-1.04.2-1.43.59L10.3 9.45l-7.72 7.72c-.78.78-.78 2.05 0 2.83L4 21.41c.39.39.9.59 1.41.59.51 0 1.02-.2 1.41-.59l7.78-7.78 2.81-2.81c.8-.78.8-2.07 0-2.86zM5.41 20L4 18.59l7.72-7.72 1.47 1.35L5.41 20z\"/>\n",
              "  </svg>\n",
              "      </button>\n",
              "      \n",
              "  <style>\n",
              "    .colab-df-container {\n",
              "      display:flex;\n",
              "      flex-wrap:wrap;\n",
              "      gap: 12px;\n",
              "    }\n",
              "\n",
              "    .colab-df-convert {\n",
              "      background-color: #E8F0FE;\n",
              "      border: none;\n",
              "      border-radius: 50%;\n",
              "      cursor: pointer;\n",
              "      display: none;\n",
              "      fill: #1967D2;\n",
              "      height: 32px;\n",
              "      padding: 0 0 0 0;\n",
              "      width: 32px;\n",
              "    }\n",
              "\n",
              "    .colab-df-convert:hover {\n",
              "      background-color: #E2EBFA;\n",
              "      box-shadow: 0px 1px 2px rgba(60, 64, 67, 0.3), 0px 1px 3px 1px rgba(60, 64, 67, 0.15);\n",
              "      fill: #174EA6;\n",
              "    }\n",
              "\n",
              "    [theme=dark] .colab-df-convert {\n",
              "      background-color: #3B4455;\n",
              "      fill: #D2E3FC;\n",
              "    }\n",
              "\n",
              "    [theme=dark] .colab-df-convert:hover {\n",
              "      background-color: #434B5C;\n",
              "      box-shadow: 0px 1px 3px 1px rgba(0, 0, 0, 0.15);\n",
              "      filter: drop-shadow(0px 1px 2px rgba(0, 0, 0, 0.3));\n",
              "      fill: #FFFFFF;\n",
              "    }\n",
              "  </style>\n",
              "\n",
              "      <script>\n",
              "        const buttonEl =\n",
              "          document.querySelector('#df-f41a8756-b43b-4f0a-9fd6-7b45ea274324 button.colab-df-convert');\n",
              "        buttonEl.style.display =\n",
              "          google.colab.kernel.accessAllowed ? 'block' : 'none';\n",
              "\n",
              "        async function convertToInteractive(key) {\n",
              "          const element = document.querySelector('#df-f41a8756-b43b-4f0a-9fd6-7b45ea274324');\n",
              "          const dataTable =\n",
              "            await google.colab.kernel.invokeFunction('convertToInteractive',\n",
              "                                                     [key], {});\n",
              "          if (!dataTable) return;\n",
              "\n",
              "          const docLinkHtml = 'Like what you see? Visit the ' +\n",
              "            '<a target=\"_blank\" href=https://colab.research.google.com/notebooks/data_table.ipynb>data table notebook</a>'\n",
              "            + ' to learn more about interactive tables.';\n",
              "          element.innerHTML = '';\n",
              "          dataTable['output_type'] = 'display_data';\n",
              "          await google.colab.output.renderOutput(dataTable, element);\n",
              "          const docLink = document.createElement('div');\n",
              "          docLink.innerHTML = docLinkHtml;\n",
              "          element.appendChild(docLink);\n",
              "        }\n",
              "      </script>\n",
              "    </div>\n",
              "  </div>\n",
              "  "
            ]
          },
          "metadata": {},
          "execution_count": 16
        }
      ]
    },
    {
      "cell_type": "code",
      "metadata": {
        "colab": {
          "base_uri": "https://localhost:8080/",
          "height": 307
        },
        "id": "XQENd5O0puMd",
        "outputId": "1fa859b8-ef4b-4364-e657-7476a7e231ab"
      },
      "source": [
        "# Mostra balanceamento das classes (gráfico de barras )\n",
        "sub.classe.value_counts().plot(kind='bar')"
      ],
      "execution_count": 17,
      "outputs": [
        {
          "output_type": "execute_result",
          "data": {
            "text/plain": [
              "<matplotlib.axes._subplots.AxesSubplot at 0x7fd2b21bf590>"
            ]
          },
          "metadata": {},
          "execution_count": 17
        },
        {
          "output_type": "display_data",
          "data": {
            "text/plain": [
              "<Figure size 432x288 with 1 Axes>"
            ],
            "image/png": "[encoded data removed]"
          },
          "metadata": {
            "needs_background": "light"
          }
        }
      ]
    },
    {
      "cell_type": "code",
      "metadata": {
        "id": "mNEHtCPepuMf"
      },
      "source": [
        "# Separa os dados de treino e teste (proporção 80/20, stratify para classes desbalanceadas)\n",
        "from sklearn.model_selection import train_test_split\n",
        "X_train, X_test, y_train, y_test = train_test_split(sub.texto, sub.classe, test_size=0.2, \n",
        "                                                    stratify=sub.classe,random_state=42)"
      ],
      "execution_count": 18,
      "outputs": []
    },
    {
      "cell_type": "code",
      "metadata": {
        "colab": {
          "base_uri": "https://localhost:8080/",
          "height": 38
        },
        "id": "j1-tOhmNpuMh",
        "outputId": "e26cab80-59ee-44b9-8c10-e3cb0306e804"
      },
      "source": [
        "# Mostra um exemplo do texto.\n",
        "X_train[0]"
      ],
      "execution_count": 19,
      "outputs": [
        {
          "output_type": "execute_result",
          "data": {
            "text/plain": [
              "'Qual é o centro de origem da pereira?'"
            ],
            "application/vnd.google.colaboratory.intrinsic+json": {
              "type": "string"
            }
          },
          "metadata": {},
          "execution_count": 19
        }
      ]
    },
    {
      "cell_type": "code",
      "metadata": {
        "colab": {
          "base_uri": "https://localhost:8080/"
        },
        "id": "OGObpky4puMi",
        "outputId": "85e5a9ae-8d0c-47db-9d93-c9fe1e65a6e6"
      },
      "source": [
        "# Confere a proporção das classes nos dados de treino e de teste\n",
        "print('TREINO : ',y_train.shape,'\\n', y_train.value_counts(normalize=True),'\\n')\n",
        "print('TESTE  : ',y_test.shape,'\\n', y_test.value_counts(normalize=True))"
      ],
      "execution_count": 20,
      "outputs": [
        {
          "output_type": "stream",
          "name": "stdout",
          "text": [
            "TREINO :  (13276,) \n",
            " Frutas    0.423923\n",
            "Graos     0.333308\n",
            "Animal    0.242769\n",
            "Name: classe, dtype: float64 \n",
            "\n",
            "TESTE  :  (3320,) \n",
            " Frutas    0.423795\n",
            "Graos     0.333434\n",
            "Animal    0.242771\n",
            "Name: classe, dtype: float64\n"
          ]
        }
      ]
    },
    {
      "cell_type": "markdown",
      "metadata": {
        "id": "Y7cCgC_OSt0Q"
      },
      "source": [
        "## Treinando o classificador *RandomForestClassifier*"
      ]
    },
    {
      "cell_type": "code",
      "source": [
        "# Define o pipeline incluindo: tokenização (tfidf_vectorizer) e treinamento do classificador\n",
        "pipelineRF = Pipeline([\n",
        "    ('tfidf', TfidfVectorizer()),\n",
        "    ('clf', RandomForestClassifier()), \n",
        "])\n",
        "#n_estimators=50,max_features=2,min_samples_leaf=1"
      ],
      "metadata": {
        "id": "efwPWyP_1Zl1"
      },
      "execution_count": 21,
      "outputs": []
    },
    {
      "cell_type": "code",
      "source": [
        "%%time\n",
        "# Treine o modelo(fit) \n",
        "classificadorRF = pipelineRF.fit(X_train, y_train)"
      ],
      "metadata": {
        "colab": {
          "base_uri": "https://localhost:8080/"
        },
        "id": "wiYYzO9Z1bG0",
        "outputId": "62f405bb-15ea-4142-e3c2-276d7be70cbb"
      },
      "execution_count": 22,
      "outputs": [
        {
          "output_type": "stream",
          "name": "stdout",
          "text": [
            "CPU times: user 12.8 s, sys: 7.83 ms, total: 12.8 s\n",
            "Wall time: 12.9 s\n"
          ]
        }
      ]
    },
    {
      "cell_type": "code",
      "source": [
        "# Mostra a acurácia do modelo nos dados de teste \n",
        "classificadorRF.score(X_test,y_test)"
      ],
      "metadata": {
        "colab": {
          "base_uri": "https://localhost:8080/"
        },
        "id": "NMZu1A2g1cuf",
        "outputId": "1388e964-86d3-4163-a9fa-dc1bbd3f0724"
      },
      "execution_count": 23,
      "outputs": [
        {
          "output_type": "execute_result",
          "data": {
            "text/plain": [
              "0.8355421686746988"
            ]
          },
          "metadata": {},
          "execution_count": 23
        }
      ]
    },
    {
      "cell_type": "code",
      "source": [
        "# Faça a predição nos dados de teste\n",
        "predictedRF = classificadorRF.predict(X_test)"
      ],
      "metadata": {
        "id": "YQ2b8_oZ1fea"
      },
      "execution_count": 24,
      "outputs": []
    },
    {
      "cell_type": "code",
      "metadata": {
        "colab": {
          "base_uri": "https://localhost:8080/"
        },
        "outputId": "6037866e-ec0d-48e6-b688-4cd846777fd8",
        "id": "Szqv8WfK1kJc"
      },
      "source": [
        "# Mostra o f1 score do modelo nos dados de teste (métrica usada quando as classes estão desbalanceadas)\n",
        "from sklearn.metrics import f1_score\n",
        "f1_score(y_test, predictedRF, average='weighted') "
      ],
      "execution_count": 25,
      "outputs": [
        {
          "output_type": "execute_result",
          "data": {
            "text/plain": [
              "0.8345762521858849"
            ]
          },
          "metadata": {},
          "execution_count": 25
        }
      ]
    },
    {
      "cell_type": "code",
      "metadata": {
        "colab": {
          "base_uri": "https://localhost:8080/"
        },
        "outputId": "8444dca4-8fe6-473e-ee68-43cead0a100d",
        "id": "u00t19vx1kJc"
      },
      "source": [
        "# avalie o modelo usando 'classification_report' do sklearn\n",
        "from sklearn import metrics\n",
        "print(metrics.classification_report(y_test, predictedRF))"
      ],
      "execution_count": 26,
      "outputs": [
        {
          "output_type": "stream",
          "name": "stdout",
          "text": [
            "              precision    recall  f1-score   support\n",
            "\n",
            "      Animal       0.94      0.77      0.84       806\n",
            "      Frutas       0.76      0.95      0.84      1407\n",
            "       Graos       0.91      0.74      0.81      1107\n",
            "\n",
            "    accuracy                           0.84      3320\n",
            "   macro avg       0.87      0.82      0.83      3320\n",
            "weighted avg       0.85      0.84      0.83      3320\n",
            "\n"
          ]
        }
      ]
    },
    {
      "cell_type": "code",
      "metadata": {
        "colab": {
          "base_uri": "https://localhost:8080/",
          "height": 376
        },
        "outputId": "b9c73a9f-2100-4eda-bf35-f653ed748482",
        "id": "Uwpi7ocQ1kJd"
      },
      "source": [
        "# mostrar a matrix de confusão do modelo sobre todo o dataset\n",
        "from sklearn.metrics import plot_confusion_matrix\n",
        "plot_confusion_matrix(classificadorRF, X_test, y_test.values.ravel(), values_format='d', xticks_rotation = 'vertical')\n"
      ],
      "execution_count": 27,
      "outputs": [
        {
          "output_type": "stream",
          "name": "stderr",
          "text": [
            "/usr/local/lib/python3.7/dist-packages/sklearn/utils/deprecation.py:87: FutureWarning: Function plot_confusion_matrix is deprecated; Function `plot_confusion_matrix` is deprecated in 1.0 and will be removed in 1.2. Use one of the class methods: ConfusionMatrixDisplay.from_predictions or ConfusionMatrixDisplay.from_estimator.\n",
            "  warnings.warn(msg, category=FutureWarning)\n"
          ]
        },
        {
          "output_type": "execute_result",
          "data": {
            "text/plain": [
              "<sklearn.metrics._plot.confusion_matrix.ConfusionMatrixDisplay at 0x7fd2b3160490>"
            ]
          },
          "metadata": {},
          "execution_count": 27
        },
        {
          "output_type": "display_data",
          "data": {
            "text/plain": [
              "<Figure size 432x288 with 2 Axes>"
            ],
            "image/png": "[encoded data removed]"
          },
          "metadata": {
            "needs_background": "light"
          }
        }
      ]
    },
    {
      "cell_type": "markdown",
      "source": [
        "## Treinando o classificador *LogisticRegression*\n",
        "\n",
        "\n"
      ],
      "metadata": {
        "id": "1w2iJUpN17oy"
      }
    },
    {
      "cell_type": "code",
      "source": [
        "# Define o pipeline incluindo: tokenização (tfidf_vectorizer) e treinamento do classificador\n",
        "pipelineLR = Pipeline([\n",
        "    ('tfidf', TfidfVectorizer()),\n",
        "    ('clf', LogisticRegression()), # default hinge. To get probabilities, use loss='log' or 'modified_huber'\n",
        "])\n"
      ],
      "metadata": {
        "id": "0GXVRI5L3KV6"
      },
      "execution_count": 28,
      "outputs": []
    },
    {
      "cell_type": "code",
      "metadata": {
        "colab": {
          "base_uri": "https://localhost:8080/"
        },
        "outputId": "daa95ca4-1732-4e1a-8e6a-d44c88af923a",
        "id": "JTGYHjSf2D_T"
      },
      "source": [
        "%%time\n",
        "# Treine o modelo(fit) \n",
        "classificadorLR = pipelineLR.fit(X_train, y_train)"
      ],
      "execution_count": 29,
      "outputs": [
        {
          "output_type": "stream",
          "name": "stdout",
          "text": [
            "CPU times: user 2 s, sys: 1.42 s, total: 3.42 s\n",
            "Wall time: 1.91 s\n"
          ]
        },
        {
          "output_type": "stream",
          "name": "stderr",
          "text": [
            "/usr/local/lib/python3.7/dist-packages/sklearn/linear_model/_logistic.py:818: ConvergenceWarning: lbfgs failed to converge (status=1):\n",
            "STOP: TOTAL NO. of ITERATIONS REACHED LIMIT.\n",
            "\n",
            "Increase the number of iterations (max_iter) or scale the data as shown in:\n",
            "    https://scikit-learn.org/stable/modules/preprocessing.html\n",
            "Please also refer to the documentation for alternative solver options:\n",
            "    https://scikit-learn.org/stable/modules/linear_model.html#logistic-regression\n",
            "  extra_warning_msg=_LOGISTIC_SOLVER_CONVERGENCE_MSG,\n"
          ]
        }
      ]
    },
    {
      "cell_type": "code",
      "metadata": {
        "colab": {
          "base_uri": "https://localhost:8080/"
        },
        "outputId": "53e50ba9-1eaa-428b-be04-9d0cbc38ed61",
        "id": "XdFPwUN-2D_U"
      },
      "source": [
        "# Mostra a acurácia do modelo nos dados de teste \n",
        "classificadorLR.score(X_test,y_test)"
      ],
      "execution_count": 30,
      "outputs": [
        {
          "output_type": "execute_result",
          "data": {
            "text/plain": [
              "0.8873493975903615"
            ]
          },
          "metadata": {},
          "execution_count": 30
        }
      ]
    },
    {
      "cell_type": "code",
      "metadata": {
        "id": "piAinfx42D_U"
      },
      "source": [
        " # Faça a predição nos dados de teste\n",
        " predictedLR = classificadorLR.predict(X_test)"
      ],
      "execution_count": 31,
      "outputs": []
    },
    {
      "cell_type": "code",
      "metadata": {
        "colab": {
          "base_uri": "https://localhost:8080/"
        },
        "outputId": "27f0c4c0-95b8-42a3-bef0-197e6536eb37",
        "id": "0QNZqxAz2D_U"
      },
      "source": [
        "# Mostra o f1 score do modelo nos dados de teste (métrica usada quando as classes estão desbalanceadas)\n",
        "from sklearn.metrics import f1_score\n",
        "f1_score(y_test, predictedLR, average='weighted') "
      ],
      "execution_count": 32,
      "outputs": [
        {
          "output_type": "execute_result",
          "data": {
            "text/plain": [
              "0.8869545257534525"
            ]
          },
          "metadata": {},
          "execution_count": 32
        }
      ]
    },
    {
      "cell_type": "code",
      "metadata": {
        "colab": {
          "base_uri": "https://localhost:8080/"
        },
        "outputId": "279f477f-3d38-43ae-db9f-549f1a4af586",
        "id": "XvodtWrb2D_U"
      },
      "source": [
        "# avalie o modelo usando 'classification_report' do sklearn\n",
        "from sklearn import metrics\n",
        "print(metrics.classification_report(y_test, predictedLR))"
      ],
      "execution_count": 33,
      "outputs": [
        {
          "output_type": "stream",
          "name": "stdout",
          "text": [
            "              precision    recall  f1-score   support\n",
            "\n",
            "      Animal       0.95      0.89      0.92       806\n",
            "      Frutas       0.85      0.94      0.89      1407\n",
            "       Graos       0.90      0.82      0.86      1107\n",
            "\n",
            "    accuracy                           0.89      3320\n",
            "   macro avg       0.90      0.88      0.89      3320\n",
            "weighted avg       0.89      0.89      0.89      3320\n",
            "\n"
          ]
        }
      ]
    },
    {
      "cell_type": "code",
      "metadata": {
        "colab": {
          "base_uri": "https://localhost:8080/",
          "height": 376
        },
        "outputId": "8cc25650-891f-4b76-b923-c20b82a60a07",
        "id": "HxksHZv12D_U"
      },
      "source": [
        "# mostrar a matrix de confusão do modelo sobre todo o dataset\n",
        "from sklearn.metrics import plot_confusion_matrix\n",
        "plot_confusion_matrix(classificadorLR, X_test, y_test.values.ravel(), values_format='d', xticks_rotation = 'vertical')\n"
      ],
      "execution_count": 34,
      "outputs": [
        {
          "output_type": "stream",
          "name": "stderr",
          "text": [
            "/usr/local/lib/python3.7/dist-packages/sklearn/utils/deprecation.py:87: FutureWarning: Function plot_confusion_matrix is deprecated; Function `plot_confusion_matrix` is deprecated in 1.0 and will be removed in 1.2. Use one of the class methods: ConfusionMatrixDisplay.from_predictions or ConfusionMatrixDisplay.from_estimator.\n",
            "  warnings.warn(msg, category=FutureWarning)\n"
          ]
        },
        {
          "output_type": "execute_result",
          "data": {
            "text/plain": [
              "<sklearn.metrics._plot.confusion_matrix.ConfusionMatrixDisplay at 0x7fd2b19242d0>"
            ]
          },
          "metadata": {},
          "execution_count": 34
        },
        {
          "output_type": "display_data",
          "data": {
            "text/plain": [
              "<Figure size 432x288 with 2 Axes>"
            ],
            "image/png": "[encoded data removed]"
          },
          "metadata": {
            "needs_background": "light"
          }
        }
      ]
    },
    {
      "cell_type": "markdown",
      "source": [
        "## Treinando o classificador *SGDClassifier*\n"
      ],
      "metadata": {
        "id": "_C1HAOzN2atj"
      }
    },
    {
      "cell_type": "code",
      "source": [
        "# Define o pipeline incluindo: tokenização (tfidf_vectorizer) e treinamento do classificador\n",
        "pipelineSDG = Pipeline([\n",
        "    ('tfidf', TfidfVectorizer(max_features=50000,ngram_range=(1,2))),\n",
        "    ('clf', SGDClassifier()), # default hinge. To get probabilities, use loss='log' or 'modified_huber'\n",
        "])\n",
        "#loss='log', penalty='elasticnet', alpha=1e-06"
      ],
      "metadata": {
        "id": "leeA3R-o3g-c"
      },
      "execution_count": 35,
      "outputs": []
    },
    {
      "cell_type": "code",
      "metadata": {
        "colab": {
          "base_uri": "https://localhost:8080/"
        },
        "id": "RBej1hgJ-MzR",
        "outputId": "1fd8cd33-6344-4bb5-b9aa-4701223c3c0d"
      },
      "source": [
        "%%time\n",
        "# Treine o modelo(fit) \n",
        "classificadorSGD = pipelineSDG.fit(X_train, y_train)"
      ],
      "execution_count": 36,
      "outputs": [
        {
          "output_type": "stream",
          "name": "stdout",
          "text": [
            "CPU times: user 761 ms, sys: 145 ms, total: 906 ms\n",
            "Wall time: 766 ms\n"
          ]
        }
      ]
    },
    {
      "cell_type": "code",
      "metadata": {
        "colab": {
          "base_uri": "https://localhost:8080/"
        },
        "id": "jdNOA49NK7ek",
        "outputId": "c7a77b6c-8bce-455a-d6b1-7cabca6ef6de"
      },
      "source": [
        "# Mostra a acurácia do modelo nos dados de teste \n",
        "classificadorSGD.score(X_test,y_test)"
      ],
      "execution_count": 37,
      "outputs": [
        {
          "output_type": "execute_result",
          "data": {
            "text/plain": [
              "0.8951807228915662"
            ]
          },
          "metadata": {},
          "execution_count": 37
        }
      ]
    },
    {
      "cell_type": "code",
      "metadata": {
        "id": "5aUTUPi_H1BI"
      },
      "source": [
        " # Faça a predição nos dados de teste\n",
        " predictedSGD = classificadorSGD.predict(X_test)"
      ],
      "execution_count": 38,
      "outputs": []
    },
    {
      "cell_type": "code",
      "metadata": {
        "colab": {
          "base_uri": "https://localhost:8080/"
        },
        "id": "6VlkmjyRg-bb",
        "outputId": "e6d444f7-0a03-4e63-d862-c3972218b7fd"
      },
      "source": [
        "# Mostra o f1 score do modelo nos dados de teste (métrica usada quando as classes estão desbalanceadas)\n",
        "from sklearn.metrics import f1_score\n",
        "f1_score(y_test, predictedSGD, average='weighted') "
      ],
      "execution_count": 39,
      "outputs": [
        {
          "output_type": "execute_result",
          "data": {
            "text/plain": [
              "0.8947098182389498"
            ]
          },
          "metadata": {},
          "execution_count": 39
        }
      ]
    },
    {
      "cell_type": "code",
      "metadata": {
        "colab": {
          "base_uri": "https://localhost:8080/"
        },
        "id": "DoSTs_DHH79v",
        "outputId": "15c98b3b-27ba-42b3-854f-3b92ad50254f"
      },
      "source": [
        "# avalie o modelo usando 'classification_report' do sklearn\n",
        "from sklearn import metrics\n",
        "print(metrics.classification_report(y_test, predictedSGD))"
      ],
      "execution_count": 40,
      "outputs": [
        {
          "output_type": "stream",
          "name": "stdout",
          "text": [
            "              precision    recall  f1-score   support\n",
            "\n",
            "      Animal       0.94      0.90      0.92       806\n",
            "      Frutas       0.86      0.95      0.90      1407\n",
            "       Graos       0.91      0.83      0.87      1107\n",
            "\n",
            "    accuracy                           0.90      3320\n",
            "   macro avg       0.90      0.89      0.90      3320\n",
            "weighted avg       0.90      0.90      0.89      3320\n",
            "\n"
          ]
        }
      ]
    },
    {
      "cell_type": "code",
      "metadata": {
        "colab": {
          "base_uri": "https://localhost:8080/",
          "height": 376
        },
        "id": "aqI48xPraWgX",
        "outputId": "da0d68f5-b5ac-4d4d-8da7-b8de0e3fb3e1"
      },
      "source": [
        "# mostrar a matrix de confusão do modelo sobre todo o dataset\n",
        "from sklearn.metrics import plot_confusion_matrix\n",
        "plot_confusion_matrix(classificadorSGD, X_test, y_test.values.ravel(), values_format='d', xticks_rotation = 'vertical')\n"
      ],
      "execution_count": 41,
      "outputs": [
        {
          "output_type": "stream",
          "name": "stderr",
          "text": [
            "/usr/local/lib/python3.7/dist-packages/sklearn/utils/deprecation.py:87: FutureWarning: Function plot_confusion_matrix is deprecated; Function `plot_confusion_matrix` is deprecated in 1.0 and will be removed in 1.2. Use one of the class methods: ConfusionMatrixDisplay.from_predictions or ConfusionMatrixDisplay.from_estimator.\n",
            "  warnings.warn(msg, category=FutureWarning)\n"
          ]
        },
        {
          "output_type": "execute_result",
          "data": {
            "text/plain": [
              "<sklearn.metrics._plot.confusion_matrix.ConfusionMatrixDisplay at 0x7fd2b17a8fd0>"
            ]
          },
          "metadata": {},
          "execution_count": 41
        },
        {
          "output_type": "display_data",
          "data": {
            "text/plain": [
              "<Figure size 432x288 with 2 Axes>"
            ],
            "image/png": "[encoded data removed]"
          },
          "metadata": {
            "needs_background": "light"
          }
        }
      ]
    },
    {
      "cell_type": "markdown",
      "source": [
        "Resumo: \n",
        "\n",
        "* RandomForest       f1-score = 0.8322626955630255\n",
        "* LogisticRegression f1-score = 0.8869545257534525\n",
        "* **SGDClassifier**      f1-score = 0.8947030518929378\n",
        "\n"
      ],
      "metadata": {
        "id": "HR1T78b62tAy"
      }
    }
  ]
}