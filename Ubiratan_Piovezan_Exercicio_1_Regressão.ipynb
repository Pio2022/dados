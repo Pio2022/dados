{
  "nbformat": 4,
  "nbformat_minor": 0,
  "metadata": {
    "kernelspec": {
      "display_name": "Python 3",
      "language": "python",
      "name": "python3"
    },
    "language_info": {
      "codemirror_mode": {
        "name": "ipython",
        "version": 3
      },
      "file_extension": ".py",
      "mimetype": "text/x-python",
      "name": "python",
      "nbconvert_exporter": "python",
      "pygments_lexer": "ipython3",
      "version": "3.7.7"
    },
    "colab": {
      "name": "Ubiratan Piovezan - Exercicio 1 - Regressão.ipynb",
      "provenance": [],
      "collapsed_sections": [],
      "include_colab_link": true
    }
  },
  "cells": [
    {
      "cell_type": "markdown",
      "metadata": {
        "id": "view-in-github",
        "colab_type": "text"
      },
      "source": [
        "<a href=\"https://colab.research.google.com/github/Pio2022/dados/blob/main/Ubiratan_Piovezan_Exercicio_1_Regress%C3%A3o.ipynb\" target=\"_parent\"><img src=\"https://colab.research.google.com/assets/colab-badge.svg\" alt=\"Open In Colab\"/></a>"
      ]
    },
    {
      "cell_type": "markdown",
      "source": [
        "\n",
        "## Objetivo: criar um modelo de regressão multipla para prever a progressão da diabetes\n",
        "\n",
        "* identificar variaveis independentes e dependentes\n",
        "* separar dados de treinamento e teste\n",
        "* medir o erro\n",
        "* visualizar de forma gráfica os dados reais e os previstos\n",
        "\n",
        "## Dataset [Diabetes](https://scikit-learn.org/stable/datasets/toy_dataset.html#diabetes-dataset)\n",
        "\n",
        "* $N = 442$\n",
        "* Atributos: 10\n",
        "    * `age`\n",
        "    * `sex`\n",
        "    * `bmi` Índice de Massa Corpórea (IMC) - *Body Mass Index* (BMI)\n",
        "    * `bp` pressão arterial média *blood pressure* (bp)\n",
        "    * `s1` colesterol total\n",
        "    * `s2` colesterol LDL\n",
        "    * `s3` colesterol HDL\n",
        "    * `s4` colesterol VLDL\n",
        "    * `s5` triglicerides\n",
        "    * `s6` glicose\n",
        "* Variável dependente: medida quantitativa de progressão da diabetes\n",
        "\n",
        "Obs: usar test_size = 0.25\n"
      ],
      "metadata": {
        "id": "0CgnA1UkFv7y"
      }
    },
    {
      "cell_type": "code",
      "metadata": {
        "id": "B2giQuGrJbLq"
      },
      "source": [
        "# importação de dados de casos de diabetes\n",
        "from sklearn.datasets import load_diabetes\n",
        "\n",
        "diabetes = load_diabetes(as_frame=True)\n",
        "X = diabetes['data']\n",
        "y = diabetes['target']"
      ],
      "execution_count": 2,
      "outputs": []
    },
    {
      "cell_type": "code",
      "source": [
        "#imprimir valores de X\n",
        "print(X)"
      ],
      "metadata": {
        "colab": {
          "base_uri": "https://localhost:8080/"
        },
        "id": "wbE4PgNUz7a1",
        "outputId": "7e7859b2-e1de-4958-9aa2-1742f255ba4e"
      },
      "execution_count": null,
      "outputs": [
        {
          "output_type": "stream",
          "name": "stdout",
          "text": [
            "          age       sex       bmi        bp        s1        s2        s3  \\\n",
            "0    0.038076  0.050680  0.061696  0.021872 -0.044223 -0.034821 -0.043401   \n",
            "1   -0.001882 -0.044642 -0.051474 -0.026328 -0.008449 -0.019163  0.074412   \n",
            "2    0.085299  0.050680  0.044451 -0.005671 -0.045599 -0.034194 -0.032356   \n",
            "3   -0.089063 -0.044642 -0.011595 -0.036656  0.012191  0.024991 -0.036038   \n",
            "4    0.005383 -0.044642 -0.036385  0.021872  0.003935  0.015596  0.008142   \n",
            "..        ...       ...       ...       ...       ...       ...       ...   \n",
            "437  0.041708  0.050680  0.019662  0.059744 -0.005697 -0.002566 -0.028674   \n",
            "438 -0.005515  0.050680 -0.015906 -0.067642  0.049341  0.079165 -0.028674   \n",
            "439  0.041708  0.050680 -0.015906  0.017282 -0.037344 -0.013840 -0.024993   \n",
            "440 -0.045472 -0.044642  0.039062  0.001215  0.016318  0.015283 -0.028674   \n",
            "441 -0.045472 -0.044642 -0.073030 -0.081414  0.083740  0.027809  0.173816   \n",
            "\n",
            "           s4        s5        s6  \n",
            "0   -0.002592  0.019908 -0.017646  \n",
            "1   -0.039493 -0.068330 -0.092204  \n",
            "2   -0.002592  0.002864 -0.025930  \n",
            "3    0.034309  0.022692 -0.009362  \n",
            "4   -0.002592 -0.031991 -0.046641  \n",
            "..        ...       ...       ...  \n",
            "437 -0.002592  0.031193  0.007207  \n",
            "438  0.034309 -0.018118  0.044485  \n",
            "439 -0.011080 -0.046879  0.015491  \n",
            "440  0.026560  0.044528 -0.025930  \n",
            "441 -0.039493 -0.004220  0.003064  \n",
            "\n",
            "[442 rows x 10 columns]\n"
          ]
        }
      ]
    },
    {
      "cell_type": "code",
      "source": [
        "#imprimir valores de y\n",
        "print(y)"
      ],
      "metadata": {
        "id": "xAQ4w-Lm_ujX",
        "colab": {
          "base_uri": "https://localhost:8080/"
        },
        "outputId": "4a7537ea-0533-4256-a974-f35960d1eed7"
      },
      "execution_count": null,
      "outputs": [
        {
          "output_type": "stream",
          "name": "stdout",
          "text": [
            "0      151.0\n",
            "1       75.0\n",
            "2      141.0\n",
            "3      206.0\n",
            "4      135.0\n",
            "       ...  \n",
            "437    178.0\n",
            "438    104.0\n",
            "439    132.0\n",
            "440    220.0\n",
            "441     57.0\n",
            "Name: target, Length: 442, dtype: float64\n"
          ]
        }
      ]
    },
    {
      "cell_type": "code",
      "metadata": {
        "id": "9vpbSxZnJbLv"
      },
      "source": [
        "from sklearn.model_selection import train_test_split\n",
        "\n",
        "#Separe os dados entre treino e teste com proporcao de 75% e 25%\n",
        "X_train, X_test, y_train, y_test = train_test_split(X, y, test_size=0.25, random_state=0)\n"
      ],
      "execution_count": 3,
      "outputs": []
    },
    {
      "cell_type": "markdown",
      "source": [
        "Importando o modelo LinearRegression"
      ],
      "metadata": {
        "id": "K2gUPtJ9IZUo"
      }
    },
    {
      "cell_type": "code",
      "metadata": {
        "id": "fY9C7QbSJbL5"
      },
      "source": [
        "# importamos um modelo de regressão linear da biblioteca sklearn\n",
        "from sklearn.linear_model import LinearRegression"
      ],
      "execution_count": 4,
      "outputs": []
    },
    {
      "cell_type": "code",
      "metadata": {
        "id": "uh3nNgM1JbL7"
      },
      "source": [
        "#instanciando o modelo \n",
        "lm = LinearRegression()\n"
      ],
      "execution_count": 5,
      "outputs": []
    },
    {
      "cell_type": "code",
      "source": [
        "lm.fit(X=X, y=y) \n"
      ],
      "metadata": {
        "id": "z1KAZ8v5Etqg",
        "colab": {
          "base_uri": "https://localhost:8080/"
        },
        "outputId": "8643996e-f745-4832-e6f7-ed3a92590c96"
      },
      "execution_count": 6,
      "outputs": [
        {
          "output_type": "execute_result",
          "data": {
            "text/plain": [
              "LinearRegression()"
            ]
          },
          "metadata": {},
          "execution_count": 6
        }
      ]
    },
    {
      "cell_type": "code",
      "source": [
        "#performance do modelo no treinamento e nos testes\n",
        "print('R2 for Train', lm.score( X_train, y_train ))\n",
        "print('R2 for Test', lm.score(X_test, y_test))"
      ],
      "metadata": {
        "id": "Q885Fl04hp39",
        "colab": {
          "base_uri": "https://localhost:8080/"
        },
        "outputId": "5d899701-6595-42b1-e120-9d10bf832565"
      },
      "execution_count": 7,
      "outputs": [
        {
          "output_type": "stream",
          "name": "stdout",
          "text": [
            "R2 for Train 0.5520644910950767\n",
            "R2 for Test 0.38880043483872373\n"
          ]
        }
      ]
    },
    {
      "cell_type": "code",
      "source": [
        "#faca previsoes com toso dos dados separados para teste X_test\n",
        "predicted = lm.predict(X_test)"
      ],
      "metadata": {
        "id": "d5XtaE0RiOl8"
      },
      "execution_count": 8,
      "outputs": []
    },
    {
      "cell_type": "code",
      "source": [
        "predicted"
      ],
      "metadata": {
        "id": "uyswhf6Y1UwQ",
        "colab": {
          "base_uri": "https://localhost:8080/"
        },
        "outputId": "964f3c2e-2ad1-4254-ff11-d1573da033ab"
      },
      "execution_count": 9,
      "outputs": [
        {
          "output_type": "execute_result",
          "data": {
            "text/plain": [
              "array([235.3011088 , 245.16192142, 164.32674962, 119.48417359,\n",
              "       187.18384852, 251.35898288, 115.06673301, 189.19307553,\n",
              "       142.5193942 , 228.58801706, 166.82129568, 178.55548636,\n",
              "       106.83424483,  88.1040833 , 244.30370588,  85.80377894,\n",
              "       155.23013996,  68.07234761,  97.07853583, 222.48172067,\n",
              "       191.16674356, 157.87686037, 163.01389345, 150.50201654,\n",
              "       191.33759392, 168.21035724, 129.83264097,  87.12032949,\n",
              "       193.31777358, 160.67275473, 180.12844365,  84.17453643,\n",
              "       142.20916765, 144.42617093, 146.64621068, 196.9141296 ,\n",
              "       165.84341641, 190.66078824, 131.09513588, 206.76300555,\n",
              "        85.26036769, 165.3872774 , 146.27099383, 182.3042492 ,\n",
              "       178.70442926,  76.79700486, 146.99720377, 139.1077439 ,\n",
              "       124.02443772, 236.70948329, 159.9389204 ,  73.89417947,\n",
              "       157.03563376, 157.01489819, 235.16536625, 177.17236996,\n",
              "       191.53802295, 114.23779529, 139.54389024, 170.44063216,\n",
              "       207.8289973 , 169.23161767, 155.66898717, 113.0351432 ,\n",
              "       246.29542114, 150.64502809,  82.17255475, 230.55904185,\n",
              "       197.47094269,  53.44819015,  79.94239571, 134.57807971,\n",
              "       104.57821235, 143.05658763, 129.8448476 , 189.96141244,\n",
              "       101.05169913, 199.02165018, 219.35211772, 189.19183226,\n",
              "       154.59826802, 207.72180472,  46.59691745, 207.99651918,\n",
              "        74.67649224,  98.58485669, 141.69628649, 189.87368742,\n",
              "       134.18186217, 150.84273716,  97.12824075, 125.22224022,\n",
              "        75.16389857, 150.50918174, 128.45984241, 109.99647408,\n",
              "       230.26311068, 224.06561179, 123.28697604, 158.81033076,\n",
              "       195.92074021, 106.34908972, 194.3950396 ,  95.31403505,\n",
              "       213.92445645, 118.85378669, 216.22213925, 254.05718804,\n",
              "       113.11286302, 114.83969622, 193.01802803])"
            ]
          },
          "metadata": {},
          "execution_count": 9
        }
      ]
    },
    {
      "cell_type": "code",
      "source": [
        "import numpy as np\n",
        "print(np.c_[predicted, y_test])"
      ],
      "metadata": {
        "id": "YJrzWen0DYCQ",
        "colab": {
          "base_uri": "https://localhost:8080/"
        },
        "outputId": "8a2caea8-d086-4d19-f850-387c66d5fe03"
      },
      "execution_count": 10,
      "outputs": [
        {
          "output_type": "stream",
          "name": "stdout",
          "text": [
            "[[235.3011088  321.        ]\n",
            " [245.16192142 215.        ]\n",
            " [164.32674962 127.        ]\n",
            " [119.48417359  64.        ]\n",
            " [187.18384852 175.        ]\n",
            " [251.35898288 275.        ]\n",
            " [115.06673301 179.        ]\n",
            " [189.19307553 232.        ]\n",
            " [142.5193942  142.        ]\n",
            " [228.58801706  99.        ]\n",
            " [166.82129568 252.        ]\n",
            " [178.55548636 174.        ]\n",
            " [106.83424483 129.        ]\n",
            " [ 88.1040833   74.        ]\n",
            " [244.30370588 264.        ]\n",
            " [ 85.80377894  49.        ]\n",
            " [155.23013996  86.        ]\n",
            " [ 68.07234761  75.        ]\n",
            " [ 97.07853583 101.        ]\n",
            " [222.48172067 155.        ]\n",
            " [191.16674356 170.        ]\n",
            " [157.87686037 276.        ]\n",
            " [163.01389345 110.        ]\n",
            " [150.50201654 136.        ]\n",
            " [191.33759392  68.        ]\n",
            " [168.21035724 128.        ]\n",
            " [129.83264097 103.        ]\n",
            " [ 87.12032949  93.        ]\n",
            " [193.31777358 191.        ]\n",
            " [160.67275473 196.        ]\n",
            " [180.12844365 217.        ]\n",
            " [ 84.17453643 181.        ]\n",
            " [142.20916765 168.        ]\n",
            " [144.42617093 200.        ]\n",
            " [146.64621068 219.        ]\n",
            " [196.9141296  281.        ]\n",
            " [165.84341641 151.        ]\n",
            " [190.66078824 257.        ]\n",
            " [131.09513588  49.        ]\n",
            " [206.76300555 198.        ]\n",
            " [ 85.26036769  96.        ]\n",
            " [165.3872774  179.        ]\n",
            " [146.27099383  95.        ]\n",
            " [182.3042492  198.        ]\n",
            " [178.70442926 244.        ]\n",
            " [ 76.79700486  89.        ]\n",
            " [146.99720377 214.        ]\n",
            " [139.1077439  182.        ]\n",
            " [124.02443772  84.        ]\n",
            " [236.70948329 270.        ]\n",
            " [159.9389204  156.        ]\n",
            " [ 73.89417947 138.        ]\n",
            " [157.03563376 113.        ]\n",
            " [157.01489819 131.        ]\n",
            " [235.16536625 195.        ]\n",
            " [177.17236996 171.        ]\n",
            " [191.53802295 122.        ]\n",
            " [114.23779529  61.        ]\n",
            " [139.54389024 230.        ]\n",
            " [170.44063216 235.        ]\n",
            " [207.8289973   52.        ]\n",
            " [169.23161767 121.        ]\n",
            " [155.66898717 144.        ]\n",
            " [113.0351432  107.        ]\n",
            " [246.29542114 132.        ]\n",
            " [150.64502809 302.        ]\n",
            " [ 82.17255475  53.        ]\n",
            " [230.55904185 317.        ]\n",
            " [197.47094269 137.        ]\n",
            " [ 53.44819015  57.        ]\n",
            " [ 79.94239571  98.        ]\n",
            " [134.57807971 170.        ]\n",
            " [104.57821235  88.        ]\n",
            " [143.05658763  90.        ]\n",
            " [129.8448476   67.        ]\n",
            " [189.96141244 163.        ]\n",
            " [101.05169913 104.        ]\n",
            " [199.02165018 186.        ]\n",
            " [219.35211772 180.        ]\n",
            " [189.19183226 283.        ]\n",
            " [154.59826802 141.        ]\n",
            " [207.72180472 150.        ]\n",
            " [ 46.59691745  47.        ]\n",
            " [207.99651918 297.        ]\n",
            " [ 74.67649224 104.        ]\n",
            " [ 98.58485669  49.        ]\n",
            " [141.69628649 103.        ]\n",
            " [189.87368742 142.        ]\n",
            " [134.18186217  59.        ]\n",
            " [150.84273716  85.        ]\n",
            " [ 97.12824075 137.        ]\n",
            " [125.22224022  53.        ]\n",
            " [ 75.16389857  51.        ]\n",
            " [150.50918174 197.        ]\n",
            " [128.45984241 135.        ]\n",
            " [109.99647408  72.        ]\n",
            " [230.26311068 208.        ]\n",
            " [224.06561179 237.        ]\n",
            " [123.28697604 145.        ]\n",
            " [158.81033076 110.        ]\n",
            " [195.92074021 292.        ]\n",
            " [106.34908972  97.        ]\n",
            " [194.3950396  197.        ]\n",
            " [ 95.31403505 158.        ]\n",
            " [213.92445645 163.        ]\n",
            " [118.85378669  63.        ]\n",
            " [216.22213925 192.        ]\n",
            " [254.05718804 233.        ]\n",
            " [113.11286302  68.        ]\n",
            " [114.83969622 160.        ]\n",
            " [193.01802803 178.        ]]\n"
          ]
        }
      ]
    },
    {
      "cell_type": "code",
      "source": [
        "print(y_test - predicted)"
      ],
      "metadata": {
        "id": "9EtiYbCQCsAw",
        "colab": {
          "base_uri": "https://localhost:8080/"
        },
        "outputId": "002dc820-0d56-4926-cc82-eb0a3f9fb984"
      },
      "execution_count": 11,
      "outputs": [
        {
          "output_type": "stream",
          "name": "stdout",
          "text": [
            "362    85.698891\n",
            "249   -30.161921\n",
            "271   -37.326750\n",
            "435   -55.484174\n",
            "400   -12.183849\n",
            "         ...    \n",
            "325   -24.222139\n",
            "366   -21.057188\n",
            "22    -45.112863\n",
            "68     45.160304\n",
            "437   -15.018028\n",
            "Name: target, Length: 111, dtype: float64\n"
          ]
        }
      ]
    },
    {
      "cell_type": "markdown",
      "source": [
        "Avaliando o modelo"
      ],
      "metadata": {
        "id": "ZC9vCI9DmzLq"
      }
    },
    {
      "cell_type": "code",
      "source": [
        "import math\n",
        "#podemos avaliar a performance pelo mean_squared_error\n",
        "from sklearn.metrics import mean_absolute_error, mean_squared_error\n",
        "\n",
        "y_pred = lm.predict(X_test)\n",
        "\n",
        "mse = mean_squared_error(y_test, y_pred)\n",
        "\n",
        "rmse = math.sqrt(mse)\n",
        "print(rmse)\n"
      ],
      "metadata": {
        "id": "sopSRuJIA9Bq",
        "colab": {
          "base_uri": "https://localhost:8080/"
        },
        "outputId": "d1dbd194-8bc6-4b85-fdb8-1ddc649f5f61"
      },
      "execution_count": 12,
      "outputs": [
        {
          "output_type": "stream",
          "name": "stdout",
          "text": [
            "55.084003442988624\n"
          ]
        }
      ]
    },
    {
      "cell_type": "markdown",
      "source": [
        "Matplotlib é uma biblioteca utilizada para visualização de dados e plotagem gráfica.\n"
      ],
      "metadata": {
        "id": "13MmVL0eLpbf"
      }
    },
    {
      "cell_type": "code",
      "source": [
        "#importando a biblioteca matplotlib\n",
        "import matplotlib.pyplot as plt\n"
      ],
      "metadata": {
        "id": "OeWMVjGZWR_g"
      },
      "execution_count": 13,
      "outputs": []
    },
    {
      "cell_type": "code",
      "source": [
        "# fazendo a predicao em todos os dados reservados para o teste\n",
        "predicted = lm.predict(X_test)\n",
        "expected = y_test"
      ],
      "metadata": {
        "id": "uZ-5Y89YXAf9"
      },
      "execution_count": 14,
      "outputs": []
    },
    {
      "cell_type": "code",
      "source": [
        "#plotando o grafico com o valor real do preco das casas X o valor predito pelo modelo\n",
        "plt.figure(figsize=(4, 3))\n",
        "plt.scatter(expected, predicted)\n",
        "plt.plot([0, 300], [0, 300], '--k')\n",
        "plt.axis('tight')\n",
        "plt.xlabel('Real')\n",
        "plt.ylabel('Previsão')\n",
        "plt.tight_layout()"
      ],
      "metadata": {
        "id": "db8aXKHSWMhr",
        "colab": {
          "base_uri": "https://localhost:8080/",
          "height": 225
        },
        "outputId": "b28956be-2f7a-4c18-9d55-cb6d14c7b0be"
      },
      "execution_count": 15,
      "outputs": [
        {
          "output_type": "display_data",
          "data": {
            "text/plain": [
              "<Figure size 288x216 with 1 Axes>"
            ],
            "image/png": "[encoded data removed]"
          },
          "metadata": {
            "needs_background": "light"
          }
        }
      ]
    }
  ]
}